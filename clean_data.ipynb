{
 "cells": [
  {
   "cell_type": "code",
   "execution_count": 12,
   "metadata": {
    "collapsed": true
   },
   "outputs": [],
   "source": [
    "import os\n",
    "import pandas as pd"
   ]
  },
  {
   "cell_type": "code",
   "execution_count": 23,
   "metadata": {
    "collapsed": true
   },
   "outputs": [],
   "source": [
    "f = open(\"tickers.csv\")\n",
    "tickers = f.read().split(' Equity\\r\\n')\n",
    "f.close()\n",
    "tickers = tickers[:-1]\n",
    "tickers[0] = tickers[0][2:]"
   ]
  },
  {
   "cell_type": "code",
   "execution_count": 24,
   "metadata": {
    "collapsed": true
   },
   "outputs": [],
   "source": [
    "tickers = [t[:-3].lower()for t in tickers if t[-2] == 'U' and t[-1] == 'S']\n",
    "existing_tickers = [t for t in tickers if os.path.exists('Stocks/'  + t + '.us.txt')]"
   ]
  },
  {
   "cell_type": "code",
   "execution_count": 25,
   "metadata": {},
   "outputs": [
    {
     "name": "stdout",
     "output_type": "stream",
     "text": [
      "original tickers: 156\n",
      "tickers that we have data for: 154\n",
      "last date: 2017-11-10\n"
     ]
    }
   ],
   "source": [
    "print 'original tickers: ' + str(len(tickers))\n",
    "print 'tickers that we have data for: ' + str(len(existing_tickers))\n",
    "print 'last date: 2017-11-10'"
   ]
  },
  {
   "cell_type": "code",
   "execution_count": 26,
   "metadata": {
    "collapsed": true
   },
   "outputs": [],
   "source": [
    "insider_trades = pd.read_csv('insider_trades.csv')#, index_col=0)\n",
    "insider_trades['min_date'] = pd.to_datetime(insider_trades['min_date'])\n",
    "insider_trades['max_date'] = pd.to_datetime(insider_trades['max_date'])\n",
    "last_date = pd.to_datetime('2017-11-10')\n",
    "cutoff = pd.to_datetime('2017-10-10')"
   ]
  },
  {
   "cell_type": "code",
   "execution_count": 27,
   "metadata": {
    "collapsed": true
   },
   "outputs": [],
   "source": [
    "#for t in existing_tickers:\n",
    "#    data = open('Stocks/' + t + '.us.txt')\n",
    "#    last_row = ''\n",
    "#    for line in data:\n",
    "#        last_row = line(\n",
    "#    print last_row)"
   ]
  },
  {
   "cell_type": "code",
   "execution_count": 28,
   "metadata": {
    "collapsed": true
   },
   "outputs": [],
   "source": [
    "# Only keep ticker if its max & min date are before the cutoff, and we have its stock price data\n",
    "trades_filtered = insider_trades[insider_trades['min_date'] <= cutoff]\n",
    "trades_filtered = trades_filtered[trades_filtered['max_date'] <= cutoff]\n",
    "trades_filtered['ticker'] = trades_filtered['ticker'].str[:-10]\n",
    "trades_filtered['ticker'] = [str(i).lower() for i in trades_filtered['ticker']]\n",
    "trades_filtered = trades_filtered[trades_filtered['ticker'].isin(existing_tickers)]"
   ]
  },
  {
   "cell_type": "code",
   "execution_count": 29,
   "metadata": {},
   "outputs": [
    {
     "name": "stdout",
     "output_type": "stream",
     "text": [
      "(170, 5)\n",
      "(83, 5)\n"
     ]
    }
   ],
   "source": [
    "print insider_trades.shape\n",
    "print trades_filtered.shape\n",
    "#trades_filtered"
   ]
  },
  {
   "cell_type": "code",
   "execution_count": 30,
   "metadata": {},
   "outputs": [],
   "source": [
    "for ticker in trades_filtered['ticker']:\n",
    "    data = pd.read_csv('Stocks/' + ticker + '.us.txt')\n",
    "    data.drop(['Open', 'High', 'Low', 'Volume', 'OpenInt'], axis = 1,inplace=True)\n",
    "    data.set_index('Date', inplace=True)\n",
    "    data.to_csv('data/' + ticker + '.csv')"
   ]
  },
  {
   "cell_type": "code",
   "execution_count": 31,
   "metadata": {},
   "outputs": [],
   "source": [
    "trades_filtered.set_index('ticker', inplace=True)\n",
    "trades_filtered.to_csv(\"filtered_trades.csv\")"
   ]
  },
  {
   "cell_type": "code",
   "execution_count": null,
   "metadata": {
    "collapsed": true
   },
   "outputs": [],
   "source": []
  }
 ],
 "metadata": {
  "kernelspec": {
   "display_name": "Python 2",
   "language": "python",
   "name": "python2"
  },
  "language_info": {
   "codemirror_mode": {
    "name": "ipython",
    "version": 2
   },
   "file_extension": ".py",
   "mimetype": "text/x-python",
   "name": "python",
   "nbconvert_exporter": "python",
   "pygments_lexer": "ipython2",
   "version": "2.7.14"
  }
 },
 "nbformat": 4,
 "nbformat_minor": 2
}
