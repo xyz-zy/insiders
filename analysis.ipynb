{
 "cells": [
  {
   "cell_type": "code",
   "execution_count": 2,
   "metadata": {
    "collapsed": true
   },
   "outputs": [],
   "source": [
    "import pandas as pd"
   ]
  },
  {
   "cell_type": "code",
   "execution_count": 22,
   "metadata": {},
   "outputs": [],
   "source": [
    "df = pd.read_csv('filtered_trades.csv')\n",
    "df.set_index('ticker', inplace=True)"
   ]
  },
  {
   "cell_type": "code",
   "execution_count": 26,
   "metadata": {},
   "outputs": [
    {
     "name": "stdout",
     "output_type": "stream",
     "text": [
      "-75.81\n",
      "-23.28\n",
      "-31.25\n",
      "-58.0\n",
      "-43.35\n",
      "-59.25\n",
      "-23.96\n",
      "-33.91\n",
      "-24.46\n",
      "-11.22\n",
      "-76.9\n",
      "-19.58\n",
      "-22.66\n",
      "-17.49\n",
      "-43.72\n",
      "-19.43\n",
      "-39.16\n",
      "-17.59\n",
      "-53.04\n",
      "-34.85\n",
      "-36.17\n",
      "-22.29\n",
      "-45.69\n",
      "-67.73\n",
      "-21.99\n",
      "-43.94\n",
      "-18.48\n",
      "-59.49\n",
      "-38.98\n",
      "-76.15\n",
      "-21.91\n",
      "-32.54\n",
      "-35.79\n",
      "-69.37\n",
      "-37.88\n",
      "-13.62\n",
      "-22.56\n",
      "-53.97\n",
      "-51.42\n",
      "-40.92\n",
      "-29.98\n",
      "-44.28\n",
      "-39.9\n",
      "-32.66\n",
      "-47.96\n",
      "-25.31\n",
      "-29.91\n",
      "-46.71\n",
      "-19.62\n",
      "-55.58\n",
      "-41.25\n",
      "-43.92\n",
      "-37.77\n",
      "-61.74\n",
      "-22.78\n",
      "-16.64\n",
      "-24.13\n",
      "-54.93\n",
      "-10.76\n",
      "-43.36\n",
      "-34.1\n",
      "-37.11\n",
      "-31.9\n",
      "-50.62\n",
      "-35.7\n",
      "-46.03\n",
      "-71.84\n",
      "-73.82\n",
      "-31.18\n",
      "-48.42\n",
      "-57.56\n",
      "-51.73\n",
      "-24.74\n",
      "-40.95\n",
      "-71.9\n",
      "-20.28\n",
      "-46.9\n",
      "-66.6\n",
      "-21.7\n",
      "-28.49\n",
      "-49.09\n",
      "-18.55\n",
      "-35.29\n"
     ]
    }
   ],
   "source": [
    "for (ticker, data) in df.iterrows():\n",
    "    print data['min']"
   ]
  },
  {
   "cell_type": "code",
   "execution_count": null,
   "metadata": {
    "collapsed": true
   },
   "outputs": [],
   "source": []
  }
 ],
 "metadata": {
  "kernelspec": {
   "display_name": "Python 2",
   "language": "python",
   "name": "python2"
  },
  "language_info": {
   "codemirror_mode": {
    "name": "ipython",
    "version": 2
   },
   "file_extension": ".py",
   "mimetype": "text/x-python",
   "name": "python",
   "nbconvert_exporter": "python",
   "pygments_lexer": "ipython2",
   "version": "2.7.14"
  }
 },
 "nbformat": 4,
 "nbformat_minor": 2
}
